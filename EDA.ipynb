{
 "cells": [
  {
   "cell_type": "markdown",
   "metadata": {},
   "source": [
    "### Elo-merchant-category-recommendation\n",
    "\n",
    "https://www.kaggle.com/c/elo-merchant-category-recommendation\n",
    "\n",
    "For each card-id, there are time series data of Merchant Transaction (history and new). \n",
    "Reduce the data to customer level and feature engineering are essential. \n",
    "This notebook is to construct the features for modeling. "
   ]
  },
  {
   "cell_type": "code",
   "execution_count": 1,
   "metadata": {},
   "outputs": [],
   "source": [
    "import pandas as pd\n",
    "import numpy as np\n",
    "%matplotlib inline\n",
    "import seaborn as sns\n",
    "import glob\n",
    "import warnings\n",
    "warnings.filterwarnings('ignore') \n",
    "import random\n",
    "import matplotlib.pyplot as plt\n",
    "from datetime import datetime,date\n",
    "import calendar\n",
    "\n",
    "from scipy.stats import norm, skew\n",
    "from scipy.special import boxcox1p"
   ]
  },
  {
   "cell_type": "code",
   "execution_count": 2,
   "metadata": {},
   "outputs": [],
   "source": [
    "train = pd.read_csv('train.csv')\n",
    "test = pd.read_csv('test.csv')"
   ]
  },
  {
   "cell_type": "code",
   "execution_count": 3,
   "metadata": {},
   "outputs": [
    {
     "name": "stdout",
     "output_type": "stream",
     "text": [
      "201917 123623\n"
     ]
    }
   ],
   "source": [
    "print(len(train),len(test))"
   ]
  },
  {
   "cell_type": "code",
   "execution_count": 4,
   "metadata": {},
   "outputs": [
    {
     "name": "stdout",
     "output_type": "stream",
     "text": [
      "<class 'pandas.core.frame.DataFrame'>\n",
      "RangeIndex: 325540 entries, 0 to 325539\n",
      "Data columns (total 6 columns):\n",
      "card_id               325540 non-null object\n",
      "feature_1             325540 non-null int64\n",
      "feature_2             325540 non-null int64\n",
      "feature_3             325540 non-null int64\n",
      "first_active_month    325539 non-null object\n",
      "target                201917 non-null float64\n",
      "dtypes: float64(1), int64(3), object(2)\n",
      "memory usage: 14.9+ MB\n"
     ]
    }
   ],
   "source": [
    "df=train.append(test,ignore_index=True) # combine two data frames and join with mechaniant info \n",
    "del test\n",
    "del train\n",
    "df.head(2)\n",
    "df.info()"
   ]
  },
  {
   "cell_type": "code",
   "execution_count": null,
   "metadata": {},
   "outputs": [],
   "source": []
  },
  {
   "cell_type": "code",
   "execution_count": 40,
   "metadata": {},
   "outputs": [
    {
     "data": {
      "text/plain": [
       "<matplotlib.axes._subplots.AxesSubplot at 0x7f4c07f88080>"
      ]
     },
     "execution_count": 40,
     "metadata": {},
     "output_type": "execute_result"
    },
    {
     "data": {
      "image/png": "[encoded data removed]",
      "text/plain": [
       "<Figure size 432x288 with 1 Axes>"
      ]
     },
     "metadata": {
      "needs_background": "light"
     },
     "output_type": "display_data"
    }
   ],
   "source": [
    "### Target Distribution \n",
    "sns.distplot(df[df['target'].notnull()]['target'])"
   ]
  },
  {
   "cell_type": "markdown",
   "metadata": {},
   "source": [
    "I noticed that there are outliers (maybe not right to call them outliers) in the Target data. It seems that target == 33.12.. is like another category. So I defined a new feature 1) Wired_Value to record those cards. 2)Extract the year, month info from the first_purchase_date column. "
   ]
  },
  {
   "cell_type": "code",
   "execution_count": 6,
   "metadata": {},
   "outputs": [],
   "source": [
    "df['Wierd_Value'] = np.where(df['target']<-33,1,0)\n",
    "df['first_active_month'] = pd.DatetimeIndex(df['first_active_month'])\n",
    "date = pd.DatetimeIndex(df['first_active_month']) \n",
    "\n",
    "df['first_purchase_date_year'] = date.year\n",
    "df['first_purchase_date_month'] = date.month"
   ]
  },
  {
   "cell_type": "code",
   "execution_count": 7,
   "metadata": {},
   "outputs": [
    {
     "data": {
      "text/plain": [
       "<matplotlib.axes._subplots.AxesSubplot at 0x7f4c4442fcf8>"
      ]
     },
     "execution_count": 7,
     "metadata": {},
     "output_type": "execute_result"
    },
    {
     "data": {
      "image/png": "[encoded data removed]",
      "text/plain": [
       "<Figure size 1080x216 with 3 Axes>"
      ]
     },
     "metadata": {
      "needs_background": "light"
     },
     "output_type": "display_data"
    }
   ],
   "source": [
    "f, ax = plt.subplots(1, 3, figsize=(15, 3)) \n",
    "sns.countplot(df['feature_1'],ax=ax[0])\n",
    "sns.countplot(df['feature_2'],ax=ax[1])\n",
    "sns.countplot(df['feature_3'],ax=ax[2])"
   ]
  },
  {
   "cell_type": "code",
   "execution_count": 8,
   "metadata": {},
   "outputs": [],
   "source": [
    "df.to_csv('df.csv',index=False)\n",
    "#df=pd.read_csv('df.csv')"
   ]
  },
  {
   "cell_type": "markdown",
   "metadata": {},
   "source": [
    "### historical data and new merchant transaction"
   ]
  },
  {
   "cell_type": "code",
   "execution_count": 9,
   "metadata": {},
   "outputs": [],
   "source": [
    "ht = pd.read_csv('historical_transactions.csv')\n",
    "nm = pd.read_csv('new_merchant_transactions.csv')\n",
    "ht['history'] = 1 # historical data\n",
    "nm['history'] = 0 # new data  \n",
    "all_m=ht.append(nm,ignore_index=True) "
   ]
  },
  {
   "cell_type": "code",
   "execution_count": 10,
   "metadata": {},
   "outputs": [],
   "source": [
    "del ht\n",
    "del nm"
   ]
  },
  {
   "cell_type": "code",
   "execution_count": 11,
   "metadata": {},
   "outputs": [
    {
     "name": "stdout",
     "output_type": "stream",
     "text": [
      "Variable   Type             Data/Info\n",
      "-------------------------------------\n",
      "all_m      DataFrame                 authorized_flag <...>075392 rows x 15 columns]\n",
      "ax         ndarray          3: 3 elems, type `object`, 24 bytes\n",
      "boxcox1p   ufunc            <ufunc 'boxcox1p'>\n",
      "calendar   module           <module 'calendar' from '<...>b/python3.7/calendar.py'>\n",
      "date       DatetimeIndex    DatetimeIndex(['2017-06-0<...>length=325540, freq=None)\n",
      "datetime   type             <class 'datetime.datetime'>\n",
      "df         DataFrame                        card_id  <...>[325540 rows x 9 columns]\n",
      "f          Figure           Figure(1080x216)\n",
      "glob       module           <module 'glob' from '/opt<...>3/lib/python3.7/glob.py'>\n",
      "norm       norm_gen         <scipy.stats._continuous_<...>object at 0x7f4c4651f8d0>\n",
      "np         module           <module 'numpy' from '/op<...>kages/numpy/__init__.py'>\n",
      "pd         module           <module 'pandas' from '/o<...>ages/pandas/__init__.py'>\n",
      "plt        module           <module 'matplotlib.pyplo<...>es/matplotlib/pyplot.py'>\n",
      "random     module           <module 'random' from '/o<...>lib/python3.7/random.py'>\n",
      "skew       function         <function skew at 0x7f4c463c98c8>\n",
      "sns        module           <module 'seaborn' from '/<...>ges/seaborn/__init__.py'>\n",
      "warnings   module           <module 'warnings' from '<...>b/python3.7/warnings.py'>\n"
     ]
    }
   ],
   "source": [
    "%whos"
   ]
  },
  {
   "cell_type": "code",
   "execution_count": 12,
   "metadata": {},
   "outputs": [
    {
     "data": {
      "text/html": [
       "<div>\n",
       "<style scoped>\n",
       "    .dataframe tbody tr th:only-of-type {\n",
       "        vertical-align: middle;\n",
       "    }\n",
       "\n",
       "    .dataframe tbody tr th {\n",
       "        vertical-align: top;\n",
       "    }\n",
       "\n",
       "    .dataframe thead th {\n",
       "        text-align: right;\n",
       "    }\n",
       "</style>\n",
       "<table border=\"1\" class=\"dataframe\">\n",
       "  <thead>\n",
       "    <tr style=\"text-align: right;\">\n",
       "      <th></th>\n",
       "      <th>authorized_flag</th>\n",
       "      <th>card_id</th>\n",
       "      <th>city_id</th>\n",
       "      <th>category_1</th>\n",
       "      <th>installments</th>\n",
       "      <th>category_3</th>\n",
       "      <th>merchant_category_id</th>\n",
       "      <th>merchant_id</th>\n",
       "      <th>month_lag</th>\n",
       "      <th>purchase_amount</th>\n",
       "      <th>purchase_date</th>\n",
       "      <th>category_2</th>\n",
       "      <th>state_id</th>\n",
       "      <th>subsector_id</th>\n",
       "      <th>history</th>\n",
       "    </tr>\n",
       "  </thead>\n",
       "  <tbody>\n",
       "    <tr>\n",
       "      <th>0</th>\n",
       "      <td>Y</td>\n",
       "      <td>C_ID_4e6213e9bc</td>\n",
       "      <td>88</td>\n",
       "      <td>N</td>\n",
       "      <td>0</td>\n",
       "      <td>A</td>\n",
       "      <td>80</td>\n",
       "      <td>M_ID_e020e9b302</td>\n",
       "      <td>-8</td>\n",
       "      <td>-0.703331</td>\n",
       "      <td>2017-06-25 15:33:07</td>\n",
       "      <td>1.0</td>\n",
       "      <td>16</td>\n",
       "      <td>37</td>\n",
       "      <td>1</td>\n",
       "    </tr>\n",
       "  </tbody>\n",
       "</table>\n",
       "</div>"
      ],
      "text/plain": [
       "  authorized_flag          card_id  city_id category_1  installments  \\\n",
       "0               Y  C_ID_4e6213e9bc       88          N             0   \n",
       "\n",
       "  category_3  merchant_category_id      merchant_id  month_lag  \\\n",
       "0          A                    80  M_ID_e020e9b302         -8   \n",
       "\n",
       "   purchase_amount        purchase_date  category_2  state_id  subsector_id  \\\n",
       "0        -0.703331  2017-06-25 15:33:07         1.0        16            37   \n",
       "\n",
       "   history  \n",
       "0        1  "
      ]
     },
     "execution_count": 12,
     "metadata": {},
     "output_type": "execute_result"
    }
   ],
   "source": [
    "all_m.head(1)"
   ]
  },
  {
   "cell_type": "markdown",
   "metadata": {},
   "source": [
    "### Feature Encoding \n",
    "1) fill the missing value  \n",
    "2) label encoding (category_1, authorized_flag, category_3)  \n",
    "3) extract year, month, and days information; extract the weekday(weekend) information (0 is Monday and 6 is Sunday); extract information about before(after) midday. "
   ]
  },
  {
   "cell_type": "code",
   "execution_count": 13,
   "metadata": {},
   "outputs": [],
   "source": [
    "all_m['category_2'] = all_m['category_2'].fillna(6.0) \n",
    "all_m['category_3'] = all_m['category_3'].fillna('D')\n",
    "all_m['merchant_id'] = all_m['merchant_id'].fillna('None')\n",
    "\n",
    "mname = all_m['merchant_id'].unique()\n",
    "classes_code = pd.Categorical(mname).codes\n",
    "classes = pd.Categorical(mname).categories\n",
    "\n",
    "code = {x:y for x, y in zip(classes,classes_code)}\n",
    "all_m['merchant_id'] = all_m['merchant_id'].map(code)\n",
    "\n",
    "\n",
    "pd.isnull(all_m).sum().sort_values(ascending=False).head(2)\n",
    "\n",
    "all_m['category_1'] = all_m['category_1'].astype('category').cat.codes\n",
    "all_m['authorized_flag'] = all_m['authorized_flag'].astype('category').cat.codes\n",
    "all_m['category_3'] = all_m['category_3'].astype('category').cat.codes\n",
    "\n",
    "all_m.head(1)\n",
    "\n",
    "all_m['purchase_date'] = pd.DatetimeIndex(all_m['purchase_date'])\n",
    "date = pd.DatetimeIndex(all_m['purchase_date']) \n",
    "\n",
    "all_m['weekday/end'] = date.dayofweek\n",
    "all_m['purchase_date_midday'] = np.where(date.hour>12,1,0) # check if the time is after 12pm or before.\n",
    "\n",
    "all_m.to_csv('all_m.csv',index=False)"
   ]
  },
  {
   "cell_type": "markdown",
   "metadata": {},
   "source": [
    "  "
   ]
  },
  {
   "cell_type": "code",
   "execution_count": 3,
   "metadata": {},
   "outputs": [],
   "source": [
    "all_m = pd.read_csv('all_m.csv')"
   ]
  },
  {
   "cell_type": "code",
   "execution_count": 14,
   "metadata": {},
   "outputs": [
    {
     "data": {
      "text/html": [
       "<div>\n",
       "<style scoped>\n",
       "    .dataframe tbody tr th:only-of-type {\n",
       "        vertical-align: middle;\n",
       "    }\n",
       "\n",
       "    .dataframe tbody tr th {\n",
       "        vertical-align: top;\n",
       "    }\n",
       "\n",
       "    .dataframe thead th {\n",
       "        text-align: right;\n",
       "    }\n",
       "</style>\n",
       "<table border=\"1\" class=\"dataframe\">\n",
       "  <thead>\n",
       "    <tr style=\"text-align: right;\">\n",
       "      <th></th>\n",
       "      <th>authorized_flag</th>\n",
       "      <th>card_id</th>\n",
       "      <th>city_id</th>\n",
       "      <th>category_1</th>\n",
       "      <th>installments</th>\n",
       "      <th>category_3</th>\n",
       "      <th>merchant_category_id</th>\n",
       "      <th>merchant_id</th>\n",
       "      <th>month_lag</th>\n",
       "      <th>purchase_amount</th>\n",
       "      <th>purchase_date</th>\n",
       "      <th>category_2</th>\n",
       "      <th>state_id</th>\n",
       "      <th>subsector_id</th>\n",
       "      <th>history</th>\n",
       "      <th>weekday/end</th>\n",
       "      <th>purchase_date_midday</th>\n",
       "    </tr>\n",
       "  </thead>\n",
       "  <tbody>\n",
       "    <tr>\n",
       "      <th>0</th>\n",
       "      <td>1</td>\n",
       "      <td>C_ID_4e6213e9bc</td>\n",
       "      <td>88</td>\n",
       "      <td>0</td>\n",
       "      <td>0</td>\n",
       "      <td>0</td>\n",
       "      <td>80</td>\n",
       "      <td>151266</td>\n",
       "      <td>-8</td>\n",
       "      <td>-0.703331</td>\n",
       "      <td>2017-06-25 15:33:07</td>\n",
       "      <td>1.0</td>\n",
       "      <td>16</td>\n",
       "      <td>37</td>\n",
       "      <td>1</td>\n",
       "      <td>6</td>\n",
       "      <td>1</td>\n",
       "    </tr>\n",
       "  </tbody>\n",
       "</table>\n",
       "</div>"
      ],
      "text/plain": [
       "   authorized_flag          card_id  city_id  category_1  installments  \\\n",
       "0                1  C_ID_4e6213e9bc       88           0             0   \n",
       "\n",
       "   category_3  merchant_category_id  merchant_id  month_lag  purchase_amount  \\\n",
       "0           0                    80       151266         -8        -0.703331   \n",
       "\n",
       "        purchase_date  category_2  state_id  subsector_id  history  \\\n",
       "0 2017-06-25 15:33:07         1.0        16            37        1   \n",
       "\n",
       "   weekday/end  purchase_date_midday  \n",
       "0            6                     1  "
      ]
     },
     "execution_count": 14,
     "metadata": {},
     "output_type": "execute_result"
    }
   ],
   "source": [
    "all_m.head(1)"
   ]
  },
  {
   "cell_type": "code",
   "execution_count": 3,
   "metadata": {},
   "outputs": [
    {
     "data": {
      "text/plain": [
       "<matplotlib.axes._subplots.AxesSubplot at 0x7f0f1d08a278>"
      ]
     },
     "execution_count": 3,
     "metadata": {},
     "output_type": "execute_result"
    },
    {
     "data": {
      "image/png": "[encoded data removed]",
      "text/plain": [
       "<Figure size 864x216 with 4 Axes>"
      ]
     },
     "metadata": {
      "needs_background": "light"
     },
     "output_type": "display_data"
    }
   ],
   "source": [
    "f, ax = plt.subplots(1, 4, figsize=(12, 3)) \n",
    "sns.countplot(all_m['installments'],ax=ax[0])\n",
    "sns.countplot(all_m['category_1'],ax=ax[1])\n",
    "sns.countplot(all_m['category_2'],ax=ax[2])\n",
    "sns.countplot(all_m['category_3'],ax=ax[3])"
   ]
  },
  {
   "cell_type": "code",
   "execution_count": 15,
   "metadata": {},
   "outputs": [],
   "source": [
    "#all_m['purchase_amount_new'] = np.round(all_m['purchase_amount'])\n",
    "all_m = pd.get_dummies(all_m, columns=['category_2', 'category_3'])"
   ]
  },
  {
   "cell_type": "code",
   "execution_count": 16,
   "metadata": {},
   "outputs": [
    {
     "data": {
      "text/plain": [
       "Index(['authorized_flag', 'card_id', 'city_id', 'category_1', 'installments',\n",
       "       'merchant_category_id', 'merchant_id', 'month_lag', 'purchase_amount',\n",
       "       'purchase_date', 'state_id', 'subsector_id', 'history', 'weekday/end',\n",
       "       'purchase_date_midday', 'category_2_1.0', 'category_2_2.0',\n",
       "       'category_2_3.0', 'category_2_4.0', 'category_2_5.0', 'category_2_6.0',\n",
       "       'category_3_0', 'category_3_1', 'category_3_2', 'category_3_3'],\n",
       "      dtype='object')"
      ]
     },
     "execution_count": 16,
     "metadata": {},
     "output_type": "execute_result"
    }
   ],
   "source": [
    "all_m.columns"
   ]
  },
  {
   "cell_type": "code",
   "execution_count": 17,
   "metadata": {},
   "outputs": [
    {
     "data": {
      "text/plain": [
       "-2    3857276\n",
       "-1    3627430\n",
       " 0    3470946\n",
       "-3    3095651\n",
       "-4    2639805\n",
       "Name: month_lag, dtype: int64"
      ]
     },
     "execution_count": 17,
     "metadata": {},
     "output_type": "execute_result"
    }
   ],
   "source": [
    "all_m['month_lag'].value_counts().head()"
   ]
  },
  {
   "cell_type": "markdown",
   "metadata": {},
   "source": [
    "### Feature Engineer: Applied to all the data \n",
    "part1: agg_func   \n",
    "part2: purchase amount (count) w.r.t the month lag   \n",
    "part3: purchase frequency "
   ]
  },
  {
   "cell_type": "code",
   "execution_count": 19,
   "metadata": {},
   "outputs": [],
   "source": [
    "agg_func = {\n",
    "    'authorized_flag': ['mean'],\n",
    "    'category_1':['mean'],\n",
    "    'category_2_1.0': ['mean'],\n",
    "    'category_2_2.0': ['mean'],\n",
    "    'category_2_3.0': ['mean'],\n",
    "    'category_2_4.0': ['mean'],\n",
    "    'category_2_5.0': ['mean'],\n",
    "    'category_2_6.0': ['mean'],\n",
    "    'category_3_0': ['mean'],\n",
    "    'category_3_1': ['mean'],\n",
    "    'category_3_2': ['mean'],\n",
    "    'category_3_3': ['mean'],\n",
    "    'merchant_id': ['nunique','count'],\n",
    "    'merchant_category_id': ['nunique'],\n",
    "    'state_id': ['nunique'],\n",
    "    'city_id': ['nunique'],\n",
    "    'subsector_id': ['nunique'],\n",
    "    'purchase_date_midday': ['mean'],\n",
    "    'weekday/end':['mean'],\n",
    "    'installments':['mean','max','min','std'],\n",
    "    'purchase_amount':['mean','min','max','std']\n",
    "    }"
   ]
  },
  {
   "cell_type": "code",
   "execution_count": 20,
   "metadata": {},
   "outputs": [],
   "source": [
    "hist_merchant = all_m[all_m['history']==1].groupby('card_id').agg(agg_func)\n",
    "new_merchant = all_m[all_m['history'] ==0].groupby('card_id').agg(agg_func)"
   ]
  },
  {
   "cell_type": "code",
   "execution_count": 21,
   "metadata": {},
   "outputs": [],
   "source": [
    "hist_merchant.columns = ['hist_'+ '_'.join(col).strip() for col in hist_merchant.columns.values]\n",
    "hist_merchant.reset_index(inplace=True)\n",
    "\n",
    "new_merchant.columns = ['new_'+ '_'.join(col).strip() for col in new_merchant.columns.values]\n",
    "new_merchant.reset_index(inplace=True)"
   ]
  },
  {
   "cell_type": "code",
   "execution_count": 23,
   "metadata": {},
   "outputs": [],
   "source": [
    "purchase_info = all_m[['card_id','purchase_date','purchase_amount','history','month_lag']]"
   ]
  },
  {
   "cell_type": "code",
   "execution_count": 25,
   "metadata": {},
   "outputs": [],
   "source": [
    "del all_m #"
   ]
  },
  {
   "cell_type": "code",
   "execution_count": 26,
   "metadata": {},
   "outputs": [
    {
     "data": {
      "text/html": [
       "<div>\n",
       "<style scoped>\n",
       "    .dataframe tbody tr th:only-of-type {\n",
       "        vertical-align: middle;\n",
       "    }\n",
       "\n",
       "    .dataframe tbody tr th {\n",
       "        vertical-align: top;\n",
       "    }\n",
       "\n",
       "    .dataframe thead th {\n",
       "        text-align: right;\n",
       "    }\n",
       "</style>\n",
       "<table border=\"1\" class=\"dataframe\">\n",
       "  <thead>\n",
       "    <tr style=\"text-align: right;\">\n",
       "      <th></th>\n",
       "      <th>card_id</th>\n",
       "      <th>purchase_date</th>\n",
       "      <th>purchase_amount</th>\n",
       "      <th>history</th>\n",
       "      <th>month_lag</th>\n",
       "    </tr>\n",
       "  </thead>\n",
       "  <tbody>\n",
       "    <tr>\n",
       "      <th>0</th>\n",
       "      <td>C_ID_4e6213e9bc</td>\n",
       "      <td>2017-06-25 15:33:07</td>\n",
       "      <td>-0.703331</td>\n",
       "      <td>1</td>\n",
       "      <td>-8</td>\n",
       "    </tr>\n",
       "    <tr>\n",
       "      <th>1</th>\n",
       "      <td>C_ID_4e6213e9bc</td>\n",
       "      <td>2017-07-15 12:10:45</td>\n",
       "      <td>-0.733128</td>\n",
       "      <td>1</td>\n",
       "      <td>-7</td>\n",
       "    </tr>\n",
       "  </tbody>\n",
       "</table>\n",
       "</div>"
      ],
      "text/plain": [
       "           card_id       purchase_date  purchase_amount  history  month_lag\n",
       "0  C_ID_4e6213e9bc 2017-06-25 15:33:07        -0.703331        1         -8\n",
       "1  C_ID_4e6213e9bc 2017-07-15 12:10:45        -0.733128        1         -7"
      ]
     },
     "execution_count": 26,
     "metadata": {},
     "output_type": "execute_result"
    }
   ],
   "source": [
    "purchase_info.head(2)"
   ]
  },
  {
   "cell_type": "code",
   "execution_count": 27,
   "metadata": {},
   "outputs": [],
   "source": [
    "purchase_info['hist_min_date'] = purchase_info[purchase_info['history']==1].\\\n",
    "                                 groupby('card_id').min()['purchase_date'].values[0]"
   ]
  },
  {
   "cell_type": "code",
   "execution_count": 28,
   "metadata": {},
   "outputs": [],
   "source": [
    "m_lag = purchase_info['month_lag'].unique()\n",
    "\n",
    "purchase_info = pd.get_dummies(purchase_info, columns=['month_lag'])\n",
    "purchase_info['diff_days'] = (pd.to_datetime(purchase_info['purchase_date']) - \\\n",
    "                             pd.to_datetime(purchase_info['hist_min_date'])).dt.days"
   ]
  },
  {
   "cell_type": "code",
   "execution_count": 29,
   "metadata": {},
   "outputs": [],
   "source": [
    "purchase_month = pd.DataFrame(df['card_id'])\n",
    "purchase_count = pd.DataFrame(df['card_id'])"
   ]
  },
  {
   "cell_type": "code",
   "execution_count": 30,
   "metadata": {},
   "outputs": [],
   "source": [
    "lag = ['month_lag']\n",
    "for lag in m_lag:\n",
    "    a = purchase_info[purchase_info['month_lag_'+str(lag)]==1]\\\n",
    "                                          .groupby(['card_id']).sum()['purchase_amount']\n",
    "    a=a.reset_index()\n",
    "    a.columns = ['card_id','month_lag_'+str(lag)]\n",
    "    purchase_month = purchase_month.merge(a,on='card_id',how='left')\n",
    "    \n",
    "    b = purchase_info[purchase_info['month_lag_'+str(lag)]==1]\\\n",
    "                                          .groupby(['card_id']).count()['purchase_amount']\n",
    "    b=b.reset_index()\n",
    "    b.columns = ['card_id','Cmonth_lag_'+str(lag)]\n",
    "    purchase_count = purchase_count.merge(b,on='card_id',how='left')"
   ]
  },
  {
   "cell_type": "code",
   "execution_count": 32,
   "metadata": {},
   "outputs": [],
   "source": [
    "hist_freq=purchase_info[purchase_info['history'] ==1].sort_values(['diff_days']).\\\n",
    "            groupby('card_id').apply(lambda x: np.mean(np.diff(x['diff_days']))).reset_index()\n",
    "\n",
    "new_freq=purchase_info[purchase_info['history'] ==0].sort_values(['diff_days']).\\\n",
    "            groupby('card_id').apply(lambda x: np.mean(np.diff(x['diff_days']))).reset_index()"
   ]
  },
  {
   "cell_type": "code",
   "execution_count": 36,
   "metadata": {},
   "outputs": [],
   "source": [
    "### Combine All the Features \n",
    "\n",
    "freq = hist_freq.merge(new_freq,on='card_id',how='left') \n",
    "freq.columns=['card_id','hist_freq','new_freq']\n",
    "\n",
    "part1=purchase_month.merge(freq,on='card_id',how='left')\n",
    "part2=purchase_count.merge(part1,on='card_id',how='left')\n",
    "part3=hist_merchant.merge(new_merchant, on='card_id',how='left')\n",
    "\n",
    "part4=part2.merge(part3,on='card_id',how='left')\n",
    "final=part4.merge(df,on='card_id',how='left')"
   ]
  },
  {
   "cell_type": "code",
   "execution_count": 38,
   "metadata": {},
   "outputs": [
    {
     "data": {
      "text/html": [
       "<div>\n",
       "<style scoped>\n",
       "    .dataframe tbody tr th:only-of-type {\n",
       "        vertical-align: middle;\n",
       "    }\n",
       "\n",
       "    .dataframe tbody tr th {\n",
       "        vertical-align: top;\n",
       "    }\n",
       "\n",
       "    .dataframe thead th {\n",
       "        text-align: right;\n",
       "    }\n",
       "</style>\n",
       "<table border=\"1\" class=\"dataframe\">\n",
       "  <thead>\n",
       "    <tr style=\"text-align: right;\">\n",
       "      <th></th>\n",
       "      <th>card_id</th>\n",
       "      <th>Cmonth_lag_-8</th>\n",
       "      <th>Cmonth_lag_-7</th>\n",
       "      <th>Cmonth_lag_-6</th>\n",
       "      <th>Cmonth_lag_-5</th>\n",
       "      <th>Cmonth_lag_-11</th>\n",
       "      <th>Cmonth_lag_0</th>\n",
       "      <th>Cmonth_lag_-3</th>\n",
       "      <th>Cmonth_lag_-9</th>\n",
       "      <th>Cmonth_lag_-4</th>\n",
       "      <th>...</th>\n",
       "      <th>new_purchase_amount_max</th>\n",
       "      <th>new_purchase_amount_std</th>\n",
       "      <th>feature_1</th>\n",
       "      <th>feature_2</th>\n",
       "      <th>feature_3</th>\n",
       "      <th>first_active_month</th>\n",
       "      <th>target</th>\n",
       "      <th>Wierd_Value</th>\n",
       "      <th>first_purchase_date_year</th>\n",
       "      <th>first_purchase_date_month</th>\n",
       "    </tr>\n",
       "  </thead>\n",
       "  <tbody>\n",
       "    <tr>\n",
       "      <th>0</th>\n",
       "      <td>C_ID_92a2005557</td>\n",
       "      <td>3.0</td>\n",
       "      <td>49.0</td>\n",
       "      <td>44.0</td>\n",
       "      <td>20.0</td>\n",
       "      <td>NaN</td>\n",
       "      <td>23.0</td>\n",
       "      <td>21.0</td>\n",
       "      <td>NaN</td>\n",
       "      <td>22.0</td>\n",
       "      <td>...</td>\n",
       "      <td>-0.296112</td>\n",
       "      <td>0.135812</td>\n",
       "      <td>5</td>\n",
       "      <td>2</td>\n",
       "      <td>1</td>\n",
       "      <td>2017-06-01</td>\n",
       "      <td>-0.820283</td>\n",
       "      <td>0</td>\n",
       "      <td>2017.0</td>\n",
       "      <td>6.0</td>\n",
       "    </tr>\n",
       "    <tr>\n",
       "      <th>1</th>\n",
       "      <td>C_ID_3d0044924f</td>\n",
       "      <td>15.0</td>\n",
       "      <td>34.0</td>\n",
       "      <td>49.0</td>\n",
       "      <td>14.0</td>\n",
       "      <td>22.0</td>\n",
       "      <td>51.0</td>\n",
       "      <td>26.0</td>\n",
       "      <td>18.0</td>\n",
       "      <td>24.0</td>\n",
       "      <td>...</td>\n",
       "      <td>-0.701858</td>\n",
       "      <td>0.014326</td>\n",
       "      <td>4</td>\n",
       "      <td>1</td>\n",
       "      <td>0</td>\n",
       "      <td>2017-01-01</td>\n",
       "      <td>0.392913</td>\n",
       "      <td>0</td>\n",
       "      <td>2017.0</td>\n",
       "      <td>1.0</td>\n",
       "    </tr>\n",
       "  </tbody>\n",
       "</table>\n",
       "<p>2 rows × 99 columns</p>\n",
       "</div>"
      ],
      "text/plain": [
       "           card_id  Cmonth_lag_-8  Cmonth_lag_-7  Cmonth_lag_-6  \\\n",
       "0  C_ID_92a2005557            3.0           49.0           44.0   \n",
       "1  C_ID_3d0044924f           15.0           34.0           49.0   \n",
       "\n",
       "   Cmonth_lag_-5  Cmonth_lag_-11  Cmonth_lag_0  Cmonth_lag_-3  Cmonth_lag_-9  \\\n",
       "0           20.0             NaN          23.0           21.0            NaN   \n",
       "1           14.0            22.0          51.0           26.0           18.0   \n",
       "\n",
       "   Cmonth_lag_-4            ...              new_purchase_amount_max  \\\n",
       "0           22.0            ...                            -0.296112   \n",
       "1           24.0            ...                            -0.701858   \n",
       "\n",
       "   new_purchase_amount_std  feature_1  feature_2  feature_3  \\\n",
       "0                 0.135812          5          2          1   \n",
       "1                 0.014326          4          1          0   \n",
       "\n",
       "   first_active_month    target  Wierd_Value  first_purchase_date_year  \\\n",
       "0          2017-06-01 -0.820283            0                    2017.0   \n",
       "1          2017-01-01  0.392913            0                    2017.0   \n",
       "\n",
       "   first_purchase_date_month  \n",
       "0                        6.0  \n",
       "1                        1.0  \n",
       "\n",
       "[2 rows x 99 columns]"
      ]
     },
     "execution_count": 38,
     "metadata": {},
     "output_type": "execute_result"
    }
   ],
   "source": [
    "final.head(2)"
   ]
  },
  {
   "cell_type": "code",
   "execution_count": 39,
   "metadata": {},
   "outputs": [],
   "source": [
    "final.to_csv('final.csv',index=False)"
   ]
  }
 ],
 "metadata": {
  "kernelspec": {
   "display_name": "Python 3",
   "language": "python",
   "name": "python3"
  },
  "language_info": {
   "codemirror_mode": {
    "name": "ipython",
    "version": 3
   },
   "file_extension": ".py",
   "mimetype": "text/x-python",
   "name": "python",
   "nbconvert_exporter": "python",
   "pygments_lexer": "ipython3",
   "version": "3.7.1"
  }
 },
 "nbformat": 4,
 "nbformat_minor": 2
}
